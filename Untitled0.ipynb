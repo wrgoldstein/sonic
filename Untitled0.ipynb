{
 "metadata": {
  "name": "",
  "signature": "sha256:9df3dfe370a8b95b495c3d1a4e452793c675edf0c42ff29ca02c98805f14b500"
 },
 "nbformat": 3,
 "nbformat_minor": 0,
 "worksheets": [
  {
   "cells": [
    {
     "cell_type": "markdown",
     "metadata": {},
     "source": [
      "# Linear Algebra\n",
      "\n",
      "A first primer on machine learning, written with the young and the math averse in mind.\n",
      "\n",
      "The reader is most likely familiar with *algebra*, or the study of the rules for manipulating symbols.  An example of an elementary algebraic problem is:\n",
      "\n",
      "$$ 2*x  = 4 $$\n",
      "$$ x = ? $$\n",
      "\n",
      "We learn about the **operators** commonly used to describe relationships: addition, multiplication, identity, and inversion.  Examples:\n",
      "\n",
      "$$ 2 + 2 = 4 $$\n",
      "\n",
      "$$ 2 * 3 = 6 $$\n",
      "\n",
      "$$ 2 * 1 = 2 $$\n",
      "\n",
      "$$ 2 * \\frac{1}{2} = 1 $$"
     ]
    },
    {
     "cell_type": "code",
     "collapsed": false,
     "input": [],
     "language": "python",
     "metadata": {},
     "outputs": []
    }
   ],
   "metadata": {}
  }
 ]
}