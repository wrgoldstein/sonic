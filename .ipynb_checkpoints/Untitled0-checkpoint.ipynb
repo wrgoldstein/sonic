{
 "metadata": {
  "name": "",
  "signature": "sha256:f2a02f35b18c6b6424b97f34733c29c1fdbe92063c7cf537205fa9f169e7e7de"
 },
 "nbformat": 3,
 "nbformat_minor": 0,
 "worksheets": []
}